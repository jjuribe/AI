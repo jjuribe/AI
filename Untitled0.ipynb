{
  "nbformat": 4,
  "nbformat_minor": 0,
  "metadata": {
    "colab": {
      "name": "Untitled0.ipynb",
      "version": "0.3.2",
      "provenance": [],
      "include_colab_link": true
    },
    "kernelspec": {
      "name": "python3",
      "display_name": "Python 3"
    },
    "accelerator": "GPU"
  },
  "cells": [
    {
      "cell_type": "markdown",
      "metadata": {
        "id": "view-in-github",
        "colab_type": "text"
      },
      "source": [
        "[View in Colaboratory](https://colab.research.google.com/github/jjuribe/AI/blob/master/Untitled0.ipynb)"
      ]
    },
    {
      "metadata": {
        "id": "lio7wuBIUxuH",
        "colab_type": "code",
        "colab": {
          "base_uri": "https://localhost:8080/",
          "height": 185
        },
        "outputId": "a88ceefc-f649-4f25-acd8-77bb1a789aac"
      },
      "cell_type": "code",
      "source": [
        "!ls -lah\n",
        "!cd .config/\n",
        "!ls -lah"
      ],
      "execution_count": 2,
      "outputs": [
        {
          "output_type": "stream",
          "text": [
            "total 16K\n",
            "drwxr-xr-x 4 root root 4.0K Sep  6 17:46 .\n",
            "drwxr-xr-x 1 root root 4.0K Sep  9 17:15 ..\n",
            "drwxr-xr-x 4 root root 4.0K Sep  6 17:27 .config\n",
            "drwxr-xr-x 2 root root 4.0K Sep  6 17:46 sample_data\n",
            "total 16K\n",
            "drwxr-xr-x 4 root root 4.0K Sep  6 17:46 .\n",
            "drwxr-xr-x 1 root root 4.0K Sep  9 17:15 ..\n",
            "drwxr-xr-x 4 root root 4.0K Sep  6 17:27 .config\n",
            "drwxr-xr-x 2 root root 4.0K Sep  6 17:46 sample_data\n"
          ],
          "name": "stdout"
        }
      ]
    },
    {
      "metadata": {
        "id": "VU4HM7E_WFcP",
        "colab_type": "code",
        "colab": {}
      },
      "cell_type": "code",
      "source": [
        ""
      ],
      "execution_count": 0,
      "outputs": []
    },
    {
      "metadata": {
        "id": "7So2KiQSX07U",
        "colab_type": "code",
        "colab": {}
      },
      "cell_type": "code",
      "source": [
        ""
      ],
      "execution_count": 0,
      "outputs": []
    }
  ]
}